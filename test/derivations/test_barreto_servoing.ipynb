{
 "cells": [
  {
   "cell_type": "code",
   "execution_count": 1,
   "metadata": {},
   "outputs": [],
   "source": [
    "import sympy as sp\n",
    "\n",
    "sp.init_printing()"
   ]
  },
  {
   "cell_type": "code",
   "execution_count": 2,
   "metadata": {},
   "outputs": [],
   "source": [
    "t = sp.symbols(\"t\")\n",
    "X = sp.Function(\"X\")\n",
    "Y = sp.Function(\"Y\")\n",
    "Z = sp.Function(\"Z\")\n",
    "\n",
    "# Define camera properties\n",
    "csi = sp.symbols(\"xi\")\n",
    "psi = sp.symbols(\"psi\") \n",
    "\n",
    "# Auxiliary variables\n",
    "alpha = sp.symbols(\"alpha\")\n",
    "rho = sp.sqrt(X(t) ** 2 + Y(t) ** 2 + Z(t) ** 2)\n",
    "r = sp.symbols(\"rho\")\n",
    "\n",
    "# Define xs and y\n",
    "x = X(t)/(Z(t) + csi * rho)\n",
    "y = -Y(t)/(Z(t) + csi * rho)\n",
    "\n",
    "# Define Ji\n",
    "Ji_0 = sp.diff(x, X(t))\n",
    "Ji_1 = sp.diff(x, Y(t))\n",
    "Ji_2 = sp.diff(x, Z(t))\n",
    "Ji_3 = sp.diff(y, X(t))\n",
    "Ji_4 = sp.diff(y, Y(t))\n",
    "Ji_5 = sp.diff(y, Z(t))\n",
    "\n",
    "Ji = sp.Matrix([[Ji_0, Ji_1, Ji_2],\n",
    "               [Ji_3, Ji_4, Ji_5]])\n",
    "Ji_s = Ji * (rho * (Z(t) + csi * rho)**2 )"
   ]
  },
  {
   "cell_type": "code",
   "execution_count": 3,
   "metadata": {},
   "outputs": [],
   "source": [
    "if False:\n",
    "    test_1 = Ji_s[0, 0] - (rho * Z(t) + csi * (Y(t)**2 + Z(t)**2))\n",
    "    test_2 = Ji_s[1, 1] + (rho * Z(t) + csi * (X(t)**2 + Z(t)**2))\n",
    "    sp.simplify(test_2)"
   ]
  },
  {
   "cell_type": "code",
   "execution_count": 4,
   "metadata": {},
   "outputs": [],
   "source": [
    "Jm = sp.Matrix([[0, -Z(t), Y(t), -1, 0, 0], \n",
    "                [Z(t), 0, -X(t), 0, -1, 0], \n",
    "                [-Y(t), X(t), 0, 0, 0, -1]])\n",
    "Jg = Ji @ Jm"
   ]
  },
  {
   "cell_type": "code",
   "execution_count": 5,
   "metadata": {},
   "outputs": [
    {
     "data": {
      "text/latex": [
       "$\\displaystyle \\left[\\begin{matrix}- x y & \\frac{- \\rho x^{2} \\xi - x^{2} Z{\\left(t \\right)} - Z{\\left(t \\right)}}{\\rho \\xi + Z{\\left(t \\right)}} & \\frac{Y{\\left(t \\right)}}{\\rho \\xi + Z{\\left(t \\right)}} & \\frac{- \\rho + x^{2} \\xi \\left(\\rho \\xi + Z{\\left(t \\right)}\\right)}{\\rho \\left(\\rho \\xi + Z{\\left(t \\right)}\\right)} & \\frac{x \\xi Y{\\left(t \\right)}}{\\rho \\left(\\rho \\xi + Z{\\left(t \\right)}\\right)} & \\frac{x \\left(\\rho + \\xi Z{\\left(t \\right)}\\right)}{\\rho \\left(\\rho \\xi + Z{\\left(t \\right)}\\right)}\\\\\\frac{- \\rho \\xi Z{\\left(t \\right)} - Y^{2}{\\left(t \\right)} - Z^{2}{\\left(t \\right)}}{\\rho^{2} \\xi^{2} + 2 \\rho \\xi Z{\\left(t \\right)} + Z^{2}{\\left(t \\right)}} & - x y & \\frac{x \\xi Y^{2}{\\left(t \\right)} + \\left(\\rho - \\xi y^{2} \\left(\\rho \\xi + Z{\\left(t \\right)}\\right)\\right) X{\\left(t \\right)}}{\\rho \\left(\\rho \\xi + Z{\\left(t \\right)}\\right)} & \\frac{x \\xi y}{\\rho} & \\frac{\\rho - \\xi y^{2} \\left(\\rho \\xi + Z{\\left(t \\right)}\\right)}{\\rho \\left(\\rho \\xi + Z{\\left(t \\right)}\\right)} & - \\frac{\\left(\\rho + \\xi Z{\\left(t \\right)}\\right) Y{\\left(t \\right)}}{\\rho \\left(\\rho \\xi + Z{\\left(t \\right)}\\right)^{2}}\\end{matrix}\\right]$"
      ],
      "text/plain": [
       "⎡                                 2      2                                    \n",
       "⎢                            - ρ⋅x ⋅ξ - x ⋅Z(t) - Z(t)                    Y(t)\n",
       "⎢           -x⋅y             ─────────────────────────                 ───────\n",
       "⎢                                    ρ⋅ξ + Z(t)                        ρ⋅ξ + Z\n",
       "⎢                                                                             \n",
       "⎢             2       2                                      2      ⎛       2 \n",
       "⎢-ρ⋅ξ⋅Z(t) - Y (t) - Z (t)                              x⋅ξ⋅Y (t) + ⎝ρ - ξ⋅y ⋅\n",
       "⎢──────────────────────────            -x⋅y             ──────────────────────\n",
       "⎢ 2  2                 2                                             ρ⋅(ρ⋅ξ + \n",
       "⎣ρ ⋅ξ  + 2⋅ρ⋅ξ⋅Z(t) + Z (t)                                                   \n",
       "\n",
       "                          2                                                   \n",
       "                    -ρ + x ⋅ξ⋅(ρ⋅ξ + Z(t))        x⋅ξ⋅Y(t)           x⋅(ρ + ξ⋅\n",
       "───                 ──────────────────────     ──────────────        ─────────\n",
       "(t)                     ρ⋅(ρ⋅ξ + Z(t))         ρ⋅(ρ⋅ξ + Z(t))        ρ⋅(ρ⋅ξ + \n",
       "                                                                              \n",
       "            ⎞                                      2                          \n",
       "(ρ⋅ξ + Z(t))⎠⋅X(t)          x⋅ξ⋅y           ρ - ξ⋅y ⋅(ρ⋅ξ + Z(t))  -(ρ + ξ⋅Z(t\n",
       "──────────────────          ─────           ─────────────────────  ───────────\n",
       "Z(t))                         ρ                 ρ⋅(ρ⋅ξ + Z(t))                \n",
       "                                                                     ρ⋅(ρ⋅ξ + \n",
       "\n",
       "        ⎤\n",
       "Z(t))   ⎥\n",
       "─────   ⎥\n",
       "Z(t))   ⎥\n",
       "        ⎥\n",
       "        ⎥\n",
       "))⋅Y(t) ⎥\n",
       "────────⎥\n",
       "     2  ⎥\n",
       "Z(t))   ⎦"
      ]
     },
     "execution_count": 5,
     "metadata": {},
     "output_type": "execute_result"
    }
   ],
   "source": [
    "# Try symbolic simplification of x and y given their values\n",
    "xs = sp.symbols(\"x\")\n",
    "ys = sp.symbols(\"y\")\n",
    "alpha = sp.symbols(\"alpha\")\n",
    "r = sp.symbols(\"rho\")\n",
    "\n",
    "# Substitute for expressions\n",
    "Jg_s = Jg.subs({x: xs, y: ys, rho: r})\n",
    "Jg_s = sp.simplify(Jg_s)\n",
    "Jg_n = Jg_s.subs({x: xs, y: ys, rho: r})\n",
    "sp.simplify(Jg_n)"
   ]
  },
  {
   "cell_type": "code",
   "execution_count": 6,
   "metadata": {},
   "outputs": [],
   "source": [
    "Jg_numeric = sp.simplify(Jg.subs({X(t): 1, Y(t): 2, Z(t): -3, csi: 0.0})).evalf()"
   ]
  },
  {
   "cell_type": "code",
   "execution_count": 7,
   "metadata": {},
   "outputs": [
    {
     "data": {
      "text/latex": [
       "$\\displaystyle \\left[\\begin{matrix}x y & \\frac{\\Upsilon \\left(x^{2} + 1\\right) - \\xi y^{2}}{\\Upsilon + \\xi} & y & \\frac{x^{2} \\left(- \\xi \\left(\\Upsilon + \\xi\\right) + 1\\right) + y^{2} + 1}{\\rho \\left(\\Upsilon + \\xi\\right)} & \\frac{x \\xi y}{\\rho} & - \\frac{\\Upsilon x}{\\rho}\\\\\\frac{\\Upsilon \\left(y^{2} + 1\\right) - x^{2} \\xi}{\\Upsilon + \\xi} & x y & - x & - \\frac{x \\xi y}{\\rho} & \\frac{x^{2} + y^{2} \\left(- \\xi \\left(\\Upsilon + \\xi\\right) + 1\\right) + 1}{\\rho \\left(\\Upsilon + \\xi\\right)} & - \\frac{\\Upsilon y}{\\rho}\\end{matrix}\\right]$"
      ],
      "text/plain": [
       "⎡                     ⎛ 2    ⎞      2       2                     2           \n",
       "⎢                   Υ⋅⎝x  + 1⎠ - ξ⋅y       x ⋅(-ξ⋅(Υ + ξ) + 1) + y  + 1       \n",
       "⎢       x⋅y         ─────────────────  y   ────────────────────────────       \n",
       "⎢                         Υ + ξ                     ρ⋅(Υ + ξ)                 \n",
       "⎢                                                                             \n",
       "⎢  ⎛ 2    ⎞    2                                                          2   \n",
       "⎢Υ⋅⎝y  + 1⎠ - x ⋅ξ                                   -x⋅ξ⋅y              x  + \n",
       "⎢─────────────────         x⋅y         -x            ───────             ─────\n",
       "⎣      Υ + ξ                                            ρ                     \n",
       "\n",
       "                              ⎤\n",
       "      x⋅ξ⋅y              -Υ⋅x ⎥\n",
       "      ─────              ─────⎥\n",
       "        ρ                  ρ  ⎥\n",
       "                              ⎥\n",
       " 2                            ⎥\n",
       "y ⋅(-ξ⋅(Υ + ξ) + 1) + 1  -Υ⋅y ⎥\n",
       "───────────────────────  ─────⎥\n",
       "    ρ⋅(Υ + ξ)              ρ  ⎦"
      ]
     },
     "execution_count": 7,
     "metadata": {},
     "output_type": "execute_result"
    }
   ],
   "source": [
    "# Implement ground truth expression from Barreto's paper and subtract it to my solution: result needs to be zero\n",
    "ups = sp.symbols(\"Upsilon\")\n",
    "\n",
    "# Matrix entries\n",
    "l11 = xs * ys\n",
    "l12 = ((1 + xs**2) * ups - ys**2 * csi) / (ups + csi)\n",
    "l13 = ys\n",
    "l14 = (1 + xs**2 * (1 - csi * (ups + csi)) + ys**2)/(r*(ups + csi))\n",
    "l15 = xs*ys*csi/r\n",
    "l16 = -xs*ups/r\n",
    "\n",
    "l21 = ((1 + ys**2) * ups - xs**2 * csi) / (ups + csi)\n",
    "l22 = xs * ys\n",
    "l23 = -xs\n",
    "l24 = -xs*ys*csi/r\n",
    "l25 = (1 + xs**2 + ys**2 * (1 - csi *(ups + csi)))/(r*(ups + csi))\n",
    "l26 = -ys*ups/r\n",
    "\n",
    "barreto_L = sp.Matrix([[l11, l12, l13, l14, l15, l16],\n",
    "                       [l21, l22, l23, l24, l25, l26]])\n",
    "\n",
    "barreto_L"
   ]
  },
  {
   "cell_type": "code",
   "execution_count": 8,
   "metadata": {},
   "outputs": [],
   "source": [
    "# Substitute with numerics\n",
    "xs_value = x.subs({X(t): 1, Y(t): 2, Z(t): -3, csi: 0.0})\n",
    "ys_value = y.subs({X(t): 1, Y(t): 2, Z(t): -3, csi: 0.0})\n",
    "alp = sp.sqrt(1 + (x**2 + y**2) * (1 - csi**2))\n",
    "ups_value = alp.subs({X(t): 1, Y(t): 2, Z(t): -3, csi: 0.0})\n",
    "r_value = rho.subs({X(t): 1, Y(t): 2, Z(t): -3, csi: 0.0})\n",
    "BL_num = barreto_L.subs({xs: xs_value, ys: ys_value, ups: ups_value, r: r_value, csi: 0.0})"
   ]
  },
  {
   "cell_type": "code",
   "execution_count": 9,
   "metadata": {},
   "outputs": [
    {
     "data": {
      "text/latex": [
       "$\\displaystyle \\left[\\begin{matrix}-0.222222222222222 & 1.11111111111111 & 0.666666666666667 & 0.333333333333333 & 0 & 0.111111111111111\\\\1.44444444444444 & -0.222222222222222 & 0.333333333333333 & 0 & 0.333333333333333 & -0.222222222222222\\end{matrix}\\right]$"
      ],
      "text/plain": [
       "⎡-0.222222222222222   1.11111111111111   0.666666666666667  0.333333333333333 \n",
       "⎢                                                                             \n",
       "⎣ 1.44444444444444   -0.222222222222222  0.333333333333333          0         \n",
       "\n",
       "         0          0.111111111111111 ⎤\n",
       "                                      ⎥\n",
       " 0.333333333333333  -0.222222222222222⎦"
      ]
     },
     "execution_count": 9,
     "metadata": {},
     "output_type": "execute_result"
    }
   ],
   "source": [
    "BL_num.evalf()"
   ]
  },
  {
   "cell_type": "code",
   "execution_count": 11,
   "metadata": {},
   "outputs": [
    {
     "data": {
      "text/latex": [
       "$\\displaystyle \\left[\\begin{matrix}-0.222222222222222 & 1.11111111111111 & 0.666666666666667 & -0.333333333333333 & 0 & -0.111111111111111\\\\1.44444444444444 & -0.222222222222222 & 0.333333333333333 & 0 & 0.333333333333333 & 0.222222222222222\\end{matrix}\\right]$"
      ],
      "text/plain": [
       "⎡-0.222222222222222   1.11111111111111   0.666666666666667  -0.333333333333333\n",
       "⎢                                                                             \n",
       "⎣ 1.44444444444444   -0.222222222222222  0.333333333333333          0         \n",
       "\n",
       "          0          -0.111111111111111⎤\n",
       "                                       ⎥\n",
       "  0.333333333333333  0.222222222222222 ⎦"
      ]
     },
     "execution_count": 11,
     "metadata": {},
     "output_type": "execute_result"
    }
   ],
   "source": [
    "-Jg_numeric"
   ]
  }
 ],
 "metadata": {
  "kernelspec": {
   "display_name": ".venv",
   "language": "python",
   "name": "python3"
  },
  "language_info": {
   "codemirror_mode": {
    "name": "ipython",
    "version": 3
   },
   "file_extension": ".py",
   "mimetype": "text/x-python",
   "name": "python",
   "nbconvert_exporter": "python",
   "pygments_lexer": "ipython3",
   "version": "3.8.10"
  }
 },
 "nbformat": 4,
 "nbformat_minor": 2
}
